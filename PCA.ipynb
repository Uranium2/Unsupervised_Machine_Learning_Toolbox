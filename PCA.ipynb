{
 "cells": [
  {
   "cell_type": "code",
   "execution_count": 1,
   "id": "c83a8d14",
   "metadata": {},
   "outputs": [],
   "source": [
    "from pca import Pca\n",
    "from utils import load_from_numpy, load_mnist\n",
    "import matplotlib.pyplot as plt"
   ]
  },
  {
   "cell_type": "code",
   "execution_count": null,
   "id": "939c74f0",
   "metadata": {},
   "outputs": [],
   "source": [
    "X, Y = load_from_numpy()\n",
    "model = Pca(X=X, n_components=2)\n",
    "res = model.fit()"
   ]
  },
  {
   "cell_type": "code",
   "execution_count": null,
   "id": "df59ed48",
   "metadata": {},
   "outputs": [],
   "source": [
    "x = res[:,0]\n",
    "y = res[:,1]\n",
    "colors = ['black', 'red', 'green', 'blue', 'cyan', \"brown\", \"gray\", \"yellow\", \"forestgreen\", \"turquoise\"]\n",
    "\n",
    "fig, ax = plt.subplots()\n",
    "for k, color in enumerate(colors):\n",
    "    x_plot = []\n",
    "    y_plot = []\n",
    "    for i, yy in enumerate(Y):\n",
    "        if yy == k:\n",
    "            x_plot.append(x[i])\n",
    "            y_plot.append(y[i])\n",
    "    ax.scatter(x_plot, y_plot, c = color, label=k)\n",
    "    legend = ax.legend(loc='upper right', shadow=True, fontsize='x-large')\n",
    "    "
   ]
  }
 ],
 "metadata": {
  "kernelspec": {
   "display_name": "Python 3",
   "language": "python",
   "name": "python3"
  },
  "language_info": {
   "codemirror_mode": {
    "name": "ipython",
    "version": 3
   },
   "file_extension": ".py",
   "mimetype": "text/x-python",
   "name": "python",
   "nbconvert_exporter": "python",
   "pygments_lexer": "ipython3",
   "version": "3.8.7"
  }
 },
 "nbformat": 4,
 "nbformat_minor": 5
}
