{
 "cells": [
  {
   "cell_type": "code",
   "execution_count": 1,
   "id": "f80af857",
   "metadata": {},
   "outputs": [],
   "source": [
    "from utils import load_mnist\n",
    "import numpy as np\n",
    "import matplotlib.pyplot as plt"
   ]
  },
  {
   "cell_type": "code",
   "execution_count": 2,
   "id": "0f0f76c0",
   "metadata": {},
   "outputs": [],
   "source": [
    "def select_random_k(K):\n",
    "    centroids = np.empty([K, np.shape(X)[1]])\n",
    "    idx = np.random.choice(np.shape(X)[0], K, replace=False)\n",
    "    for j, i in enumerate(idx):\n",
    "        centroids[j] =X[i]\n",
    "    return centroids"
   ]
  },
  {
   "cell_type": "code",
   "execution_count": 3,
   "id": "a51b011e",
   "metadata": {},
   "outputs": [],
   "source": [
    "def find_closest_k(example, Kmap):\n",
    "    distances = np.empty(K)\n",
    "    j = 0\n",
    "    for y in range(Kmap.shape[0]):\n",
    "        for x in range(Kmap.shape[1]):\n",
    "            distances[j] = np.linalg.norm(Kmap[y, x] - example)\n",
    "            j += 1\n",
    "    index_centroid = np.argmin(distances)\n",
    "    \n",
    "    closest_x = int(index_centroid % size_map[1])\n",
    "    closest_y = int(index_centroid / size_map[1])\n",
    "    return closest_y, closest_x"
   ]
  },
  {
   "cell_type": "code",
   "execution_count": 4,
   "id": "cfdafa87",
   "metadata": {},
   "outputs": [],
   "source": [
    "def update_kmap(Kmap, closest_y, closest_x, example):\n",
    "    for y in range(Kmap.shape[0]):\n",
    "        for x in range(Kmap.shape[1]):\n",
    "            Kmap[y, x] = Kmap[y, x] + lr * (np.exp(- np.linalg.norm(np.array([y, x]) - np.array([closest_y, closest_x]) ) / 2 * gamma)) * (example - Kmap[y, x])\n",
    "    return Kmap"
   ]
  },
  {
   "cell_type": "code",
   "execution_count": 5,
   "id": "1f468ff8",
   "metadata": {},
   "outputs": [],
   "source": [
    "def fit(epochs, Kmap, X):\n",
    "    for i in range(epochs) :\n",
    "        if i % 1000 == 0:\n",
    "            print(i)\n",
    "        idx = np.random.choice(np.shape(X)[0], 1, replace=False)\n",
    "        example = X[idx]\n",
    "        closest_y, closest_x = find_closest_k(example, Kmap)\n",
    "        Kmap = update_kmap(Kmap, closest_y, closest_x, example)\n",
    "    return Kmap"
   ]
  },
  {
   "cell_type": "code",
   "execution_count": 6,
   "id": "b89862e6",
   "metadata": {},
   "outputs": [],
   "source": [
    "def display_grid(Kmap):\n",
    "    f, fig = plt.subplots(size_map[0], size_map[1])\n",
    "    columns =size_map[1]\n",
    "    for y in range(Kmap.shape[0]):\n",
    "        for i, x in enumerate(range(Kmap.shape[1])):\n",
    "            fig[y, x].imshow(np.reshape(Kmap[y, x], (28,28)), cmap='gray')"
   ]
  },
  {
   "cell_type": "code",
   "execution_count": null,
   "id": "c807f7ee",
   "metadata": {},
   "outputs": [
    {
     "name": "stdout",
     "output_type": "stream",
     "text": [
      "0\n",
      "1000\n",
      "2000\n",
      "3000\n",
      "4000\n"
     ]
    }
   ],
   "source": [
    "X, Y = load_mnist()\n",
    "size_map = (10, 10)\n",
    "K = size_map[0] * size_map[1]\n",
    "gamma = 1\n",
    "lr = 1e-2\n",
    "epochs = 10000\n",
    "\n",
    "W = select_random_k(K)\n",
    "Kmap = np.reshape(W, (size_map[0], size_map[1], X.shape[1]))\n",
    "display_grid(Kmap)\n",
    "fit(epochs, Kmap, X)\n",
    "display_grid(Kmap)\n"
   ]
  },
  {
   "cell_type": "code",
   "execution_count": null,
   "id": "d5b39246",
   "metadata": {},
   "outputs": [],
   "source": []
  },
  {
   "cell_type": "code",
   "execution_count": null,
   "id": "6f09dc81",
   "metadata": {},
   "outputs": [],
   "source": []
  }
 ],
 "metadata": {
  "kernelspec": {
   "display_name": "Python 3",
   "language": "python",
   "name": "python3"
  },
  "language_info": {
   "codemirror_mode": {
    "name": "ipython",
    "version": 3
   },
   "file_extension": ".py",
   "mimetype": "text/x-python",
   "name": "python",
   "nbconvert_exporter": "python",
   "pygments_lexer": "ipython3",
   "version": "3.8.10"
  }
 },
 "nbformat": 4,
 "nbformat_minor": 5
}
